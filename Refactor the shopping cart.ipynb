{
 "cells": [
  {
   "cell_type": "code",
   "execution_count": null,
   "metadata": {},
   "outputs": [
    {
     "name": "stdout",
     "output_type": "stream",
     "text": [
      "Type 'show' to show your cart items\n",
      "Type 'add' to add cart items.\n",
      "Type 'remove' to remove cart items.\n",
      "==================================================\n",
      "There are 3 items in your cart.\n",
      "1: pear [2]\n",
      "2: mango [1]\n",
      "Cart total: $10.08\n"
     ]
    }
   ],
   "source": [
    "from IPython.display import clear_output\n",
    "\n",
    "def showInstructions():\n",
    "    print(\"\"\"Type 'show' to show your cart items\n",
    "Type 'add' to add cart items.\n",
    "Type 'remove' to remove cart items.\"\"\")\n",
    "    print('=' * 50)\n",
    "\n",
    "def addToCart(a_list, item):\n",
    "    a_list.append(item)\n",
    "\n",
    "def removeFromCart(a_list, item):\n",
    "    a_list.remove(item)\n",
    "\n",
    "def showCart(a_list):\n",
    "    items_set = list(set(a_list))\n",
    "    if a_list:\n",
    "        for i, v in enumerate(items_set):\n",
    "            print(f\"{i+1}: {v} [{a_list.count(v)}]\")\n",
    "    else:\n",
    "        print(\"You have no items in your cart.\")\n",
    "        print(\"=\" * 50)\n",
    "    \n",
    "def totalItems(a_list):\n",
    "    if len(a_list) > 1:\n",
    "        print(\"There are \" + str(len(a_list)) + \" items in your cart.\")\n",
    "    elif len(a_list) == 1:\n",
    "        print(\"There is 1 item in your cart.\")\n",
    "        \n",
    "def main():\n",
    "    basket = []\n",
    "    total = 0\n",
    "    \n",
    "    while True:\n",
    "        showInstructions()\n",
    "        totalItems(basket)\n",
    "        showCart(basket)\n",
    "        print(f\"Cart total: ${round(total, 2)}\")\n",
    "        ask = input(\"What would you like to do (add, remove, show)? Type 'quit' to end program. \")\n",
    "        clear_output()\n",
    "        \n",
    "        if ask.lower() == 'quit':\n",
    "            break\n",
    "        elif ask.lower() == 'add':\n",
    "            item = input(\"What item would you like to add? \")\n",
    "            price = float(input(\"What is the price of the item?\"))\n",
    "            total+=price\n",
    "            addToCart(basket, item)\n",
    "            clear_output()\n",
    "        elif ask.lower() == 'remove':\n",
    "            item = input(\"What item would you like to remove? \")\n",
    "            removeFromCart(basket, item)\n",
    "            clear_output()\n",
    "        \n",
    "            \n",
    "    showCart(basket)\n",
    "    \n",
    "main()"
   ]
  },
  {
   "cell_type": "code",
   "execution_count": null,
   "metadata": {},
   "outputs": [],
   "source": []
  },
  {
   "cell_type": "code",
   "execution_count": null,
   "metadata": {},
   "outputs": [],
   "source": []
  }
 ],
 "metadata": {
  "kernelspec": {
   "display_name": "Python 3",
   "language": "python",
   "name": "python3"
  },
  "language_info": {
   "codemirror_mode": {
    "name": "ipython",
    "version": 3
   },
   "file_extension": ".py",
   "mimetype": "text/x-python",
   "name": "python",
   "nbconvert_exporter": "python",
   "pygments_lexer": "ipython3",
   "version": "3.8.3"
  }
 },
 "nbformat": 4,
 "nbformat_minor": 4
}
