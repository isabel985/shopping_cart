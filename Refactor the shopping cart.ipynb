{
 "cells": [
  {
   "cell_type": "code",
   "execution_count": null,
   "metadata": {},
   "outputs": [
    {
     "name": "stdout",
     "output_type": "stream",
     "text": [
      "Type 'show' to show your cart items\n",
      "Type 'add' to add cart items.\n",
      "Type 'remove' to remove cart items.\n",
      "==================================================\n",
      "Here are the items in your cart\n",
      "==================================================\n",
      "You have no items in your cart.\n",
      "==================================================\n"
     ]
    }
   ],
   "source": [
    "from IPython.display import clear_output\n",
    "\n",
    "def showInstructions():\n",
    "    print(\"\"\"Type 'show' to show your cart items\n",
    "Type 'add' to add cart items.\n",
    "Type 'remove' to remove cart items.\"\"\")\n",
    "    print('=' * 50)\n",
    "\n",
    "def addToCart(a_list, item):\n",
    "    a_list.append(item)\n",
    "\n",
    "def removeFromCart(a_list, item):\n",
    "    a_list.remove(item)\n",
    "\n",
    "def showCart(a_list):\n",
    "    print(\"Here are the items in your cart\")\n",
    "    print(\"=\" * 50)\n",
    "    items_set = set(a_list)\n",
    "    if a_list:\n",
    "        for i in items_set:\n",
    "            print(f\"{i}: [{a_list.count(i)}]\")\n",
    "    else:\n",
    "        print(\"You have no items in your cart.\")\n",
    "    print(\"=\" * 50)\n",
    "        \n",
    "def main():\n",
    "    basket = []\n",
    "    \n",
    "    while True:\n",
    "        showInstructions()\n",
    "        showCart(basket)\n",
    "        ask = input(\"What would you like to do (add, remove, show)? Type 'quit' to end program. \")\n",
    "        clear_output()\n",
    "        \n",
    "        if ask.lower() == 'quit':\n",
    "            break\n",
    "        elif ask.lower() == 'add':\n",
    "            item = input(\"What item would you like to add? \")\n",
    "            addToCart(basket, item)\n",
    "            clear_output()\n",
    "        elif ask.lower() == 'remove':\n",
    "            item = input(\"What item would you like to remove? \")\n",
    "            removeFromCart(basket, item)\n",
    "            clear_output()\n",
    "        \n",
    "            \n",
    "    showCart(basket)\n",
    "    \n",
    "main()"
   ]
  },
  {
   "cell_type": "code",
   "execution_count": null,
   "metadata": {},
   "outputs": [],
   "source": []
  }
 ],
 "metadata": {
  "kernelspec": {
   "display_name": "Python 3",
   "language": "python",
   "name": "python3"
  },
  "language_info": {
   "codemirror_mode": {
    "name": "ipython",
    "version": 3
   },
   "file_extension": ".py",
   "mimetype": "text/x-python",
   "name": "python",
   "nbconvert_exporter": "python",
   "pygments_lexer": "ipython3",
   "version": "3.8.3"
  }
 },
 "nbformat": 4,
 "nbformat_minor": 4
}
